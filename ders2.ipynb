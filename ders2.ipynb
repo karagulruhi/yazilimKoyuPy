{
 "cells": [
  {
   "attachments": {},
   "cell_type": "markdown",
   "metadata": {},
   "source": []
  },
  {
   "cell_type": "code",
   "execution_count": 644,
   "metadata": {},
   "outputs": [],
   "source": [
    "import difflib\n",
    "from difflib import SequenceMatcher"
   ]
  },
  {
   "cell_type": "code",
   "execution_count": 645,
   "metadata": {},
   "outputs": [],
   "source": [
    "class Person():\n",
    "    def __init__(self,name,age,sex,orientation,personality,is_bot = False):\n",
    "        self.name = name\n",
    "        self.age = age\n",
    "        self.sex = sex\n",
    "        self.orientation = orientation \n",
    "        self.personality = personality\n",
    "    def iliski(self,other):\n",
    "        duo_personality=[]\n",
    "        duo_personality.append((self.personality,other.personality))\n",
    "        \n",
    "        for satir in personCompare:\n",
    "            if satir[0][:9].split(',') == ([self.personality,other.personality]):\n",
    "                # pass\n",
    "                print([satir[0][:9].split(',')])\n",
    "                print([self.personality,other.personality])\n",
    "                return satir[0][10:]\n",
    "            "
   ]
  },
  {
   "cell_type": "code",
   "execution_count": 646,
   "metadata": {},
   "outputs": [],
   "source": [
    "ruhi = Person(\"Ruhi\",\"23\",\"erkek\",\"kadın\",\"ISTP\",is_bot = False)\n",
    "kübra= Person(\"Kübra\",\"23\",\"kadın\",\"erkek\",\"ESFJ\",is_bot = False)"
   ]
  },
  {
   "cell_type": "code",
   "execution_count": 647,
   "metadata": {},
   "outputs": [],
   "source": [
    "import csv\n",
    "with open('personality.csv', newline='') as csvfile:\n",
    "    veriler = csv.reader(csvfile, delimiter=' ', quotechar='|')\n",
    "    personCompare=[]\n",
    "    for satir in veriler:\n",
    "        personCompare.append(satir)\n"
   ]
  },
  {
   "cell_type": "code",
   "execution_count": 648,
   "metadata": {},
   "outputs": [
    {
     "name": "stdout",
     "output_type": "stream",
     "text": [
      "[['ISTP', 'ESFJ']]\n",
      "['ISTP', 'ESFJ']\n"
     ]
    },
    {
     "data": {
      "text/plain": [
       "',19'"
      ]
     },
     "execution_count": 648,
     "metadata": {},
     "output_type": "execute_result"
    }
   ],
   "source": [
    "ruhi.iliski(kübra)"
   ]
  },
  {
   "cell_type": "code",
   "execution_count": 649,
   "metadata": {},
   "outputs": [
    {
     "data": {
      "text/plain": [
       "'ENFJ,ENFJ'"
      ]
     },
     "execution_count": 649,
     "metadata": {},
     "output_type": "execute_result"
    }
   ],
   "source": [
    "#ilk masum karşılarştırma\n",
    "personCompare[0][0][0:9]"
   ]
  },
  {
   "cell_type": "markdown",
   "metadata": {},
   "source": []
  },
  {
   "cell_type": "code",
   "execution_count": null,
   "metadata": {},
   "outputs": [],
   "source": []
  },
  {
   "cell_type": "code",
   "execution_count": null,
   "metadata": {},
   "outputs": [],
   "source": []
  }
 ],
 "metadata": {
  "kernelspec": {
   "display_name": "Python 3",
   "language": "python",
   "name": "python3"
  },
  "language_info": {
   "codemirror_mode": {
    "name": "ipython",
    "version": 3
   },
   "file_extension": ".py",
   "mimetype": "text/x-python",
   "name": "python",
   "nbconvert_exporter": "python",
   "pygments_lexer": "ipython3",
   "version": "3.9.0"
  },
  "orig_nbformat": 4,
  "vscode": {
   "interpreter": {
    "hash": "db79cd02c2879342fc8bd9b29edc57f1c50d232bbcdb964524802c33d44ec1fd"
   }
  }
 },
 "nbformat": 4,
 "nbformat_minor": 2
}
