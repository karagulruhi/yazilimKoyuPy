{
 "cells": [
  {
   "attachments": {},
   "cell_type": "markdown",
   "metadata": {},
   "source": []
  },
  {
   "attachments": {},
   "cell_type": "markdown",
   "metadata": {},
   "source": [
    "LESSON_2\n",
    "\n",
    "I examined the compatibility of 16 different personality with each other using oop\n",
    "\n",
    "thanks to\n",
    "https://www.personalitydata.org/16-types/enfj-relationships#partner-matrix\n",
    "\n"
   ]
  },
  {
   "cell_type": "code",
   "execution_count": 27,
   "metadata": {},
   "outputs": [],
   "source": [
    "class Person():\n",
    "    def __init__(self,name,age,sex,orientation,personality,is_bot = False):\n",
    "        self.name = name\n",
    "        self.age = age\n",
    "        self.sex = sex\n",
    "        self.orientation = orientation \n",
    "        self.personality = personality\n",
    "    def reletion(self,other):\n",
    "        duo_personality=[]\n",
    "        duo_personality.append((self.personality,other.personality))\n",
    "        \n",
    "        for satir in personCompare:\n",
    "            if satir[0][:9].split(',') == ([self.personality,other.personality]):\n",
    "                # pass\n",
    "                # print([satir[0][:9].split(',')])\n",
    "                # print([self.personality,other.personality])\n",
    "                print(f\" {self.name}({self.personality}) and {other.name}({other.personality}) harmony of the relationship: %{satir[0][10:]}\")"
   ]
  },
  {
   "cell_type": "code",
   "execution_count": 28,
   "metadata": {},
   "outputs": [],
   "source": [
    "ruhi = Person(\"Ruhi\",\"23\",\"erkek\",\"kadın\",\"ISTP\",is_bot = False)\n",
    "kübra= Person(\"Kübra\",\"23\",\"kadın\",\"erkek\",\"ISTP\",is_bot = False)\n",
    "kerim= Person(\"Kerim\",\"23\",\"erkek\",\"kadın\",\"ESTP\",is_bot = False)"
   ]
  },
  {
   "cell_type": "code",
   "execution_count": 29,
   "metadata": {},
   "outputs": [],
   "source": [
    "import csv\n",
    "with open('personality.csv', newline='') as csvfile:\n",
    "    veriler = csv.reader(csvfile, delimiter=' ', quotechar='|')\n",
    "    personCompare=[]\n",
    "    for satir in veriler:\n",
    "        personCompare.append(satir)\n"
   ]
  },
  {
   "cell_type": "code",
   "execution_count": 30,
   "metadata": {},
   "outputs": [
    {
     "name": "stdout",
     "output_type": "stream",
     "text": [
      " Ruhi(ISTP) and Kübra(ISTP) harmony of the relationship: %96\n"
     ]
    }
   ],
   "source": [
    "ruhi.reletion(kübra)"
   ]
  },
  {
   "cell_type": "markdown",
   "metadata": {},
   "source": []
  },
  {
   "attachments": {},
   "cell_type": "markdown",
   "metadata": {},
   "source": [
    "BOT EKLEME"
   ]
  },
  {
   "cell_type": "code",
   "execution_count": 31,
   "metadata": {},
   "outputs": [],
   "source": [
    "bot_personalities=[\"ESTJ\", \"ENTJ\", \"ESFJ\", \"ENFJ\", \"ISTJ\", \"ISFJ\", \"INTJ\", \"INFJ\", \"ESTP\", \"ESFP\", \"ENTP\", \"ENFP\", \"ISTP\", \"ISFP\", \"INTP\" , \"INFP\"]\n",
    "\n",
    "from faker import Faker\n",
    "from random import choice\n",
    "import random\n",
    "\n",
    "fake = Faker()\n",
    "bot_list = []\n",
    "sex,orientation=[\"kadın\",\"erkek\"]\n",
    "\n",
    "\n",
    "for i in range(12):\n",
    "  choiced_personalites = choice(bot_personalities)\n",
    "   \n",
    "  bot_list.append(Person(fake.name(),random.randint(18, 35),choice(sex),choice(orientation),choiced_personalites,True))"
   ]
  },
  {
   "cell_type": "code",
   "execution_count": 32,
   "metadata": {},
   "outputs": [
    {
     "name": "stdout",
     "output_type": "stream",
     "text": [
      " Kübra(ISTP) and Derek Smith(ENTJ) harmony of the relationship: %41\n",
      " Kübra(ISTP) and Samuel Lloyd(ENFJ) harmony of the relationship: %9\n",
      " Kübra(ISTP) and Rebecca Harris(INFJ) harmony of the relationship: %23\n",
      " Kübra(ISTP) and Katherine Arnold(ESFP) harmony of the relationship: %26\n",
      " Kübra(ISTP) and Jose Hernandez(INFJ) harmony of the relationship: %23\n",
      " Kübra(ISTP) and Katherine Farrell(ISTJ) harmony of the relationship: %78\n",
      " Kübra(ISTP) and Mary Maddox(ENTP) harmony of the relationship: %35\n",
      " Kübra(ISTP) and Joseph Maldonado(ESTP) harmony of the relationship: %62\n",
      " Kübra(ISTP) and John Hebert(ENTJ) harmony of the relationship: %41\n",
      " Kübra(ISTP) and Rodney Williams(ENTJ) harmony of the relationship: %41\n",
      " Kübra(ISTP) and Anthony Payne(ESFJ) harmony of the relationship: %19\n",
      " Kübra(ISTP) and Dr. Paul Poole(INTJ) harmony of the relationship: %78\n"
     ]
    }
   ],
   "source": [
    "for bot in bot_list:\n",
    "    kübra.reletion(bot)\n",
    "\n"
   ]
  }
 ],
 "metadata": {
  "kernelspec": {
   "display_name": "Python 3",
   "language": "python",
   "name": "python3"
  },
  "language_info": {
   "codemirror_mode": {
    "name": "ipython",
    "version": 3
   },
   "file_extension": ".py",
   "mimetype": "text/x-python",
   "name": "python",
   "nbconvert_exporter": "python",
   "pygments_lexer": "ipython3",
   "version": "3.9.0"
  },
  "orig_nbformat": 4,
  "vscode": {
   "interpreter": {
    "hash": "db79cd02c2879342fc8bd9b29edc57f1c50d232bbcdb964524802c33d44ec1fd"
   }
  }
 },
 "nbformat": 4,
 "nbformat_minor": 2
}
