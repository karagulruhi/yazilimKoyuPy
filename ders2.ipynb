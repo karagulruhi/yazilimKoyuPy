{
 "cells": [
  {
   "attachments": {},
   "cell_type": "markdown",
   "metadata": {},
   "source": []
  },
  {
   "attachments": {},
   "cell_type": "markdown",
   "metadata": {},
   "source": [
    "DERS2\n",
    "KENDİM 16 FARKLI İNSAN KARAKTERİNİ BİRBİRİYLE UYUMUNU OOP KULLANARAK İNCELEDİM"
   ]
  },
  {
   "cell_type": "code",
   "execution_count": 25,
   "metadata": {},
   "outputs": [],
   "source": [
    "class Person():\n",
    "    def __init__(self,name,age,sex,orientation,personality,is_bot = False):\n",
    "        self.name = name\n",
    "        self.age = age\n",
    "        self.sex = sex\n",
    "        self.orientation = orientation \n",
    "        self.personality = personality\n",
    "    def iliski(self,other):\n",
    "        duo_personality=[]\n",
    "        duo_personality.append((self.personality,other.personality))\n",
    "        \n",
    "        for satir in personCompare:\n",
    "            if satir[0][:9].split(',') == ([self.personality,other.personality]):\n",
    "                # pass\n",
    "                # print([satir[0][:9].split(',')])\n",
    "                # print([self.personality,other.personality])\n",
    "                print(f\"{self.name}({self.personality}) ile {other.name}({other.personality}) ilişki yaşarsa bu iksinin uyumu {satir[0][10:]}'dır\")"
   ]
  },
  {
   "cell_type": "code",
   "execution_count": 26,
   "metadata": {},
   "outputs": [],
   "source": [
    "ruhi = Person(\"Ruhi\",\"23\",\"erkek\",\"kadın\",\"ISTP\",is_bot = False)\n",
    "kübra= Person(\"Kübra\",\"23\",\"kadın\",\"erkek\",\"ISTP\",is_bot = False)"
   ]
  },
  {
   "cell_type": "code",
   "execution_count": 27,
   "metadata": {},
   "outputs": [],
   "source": [
    "import csv\n",
    "with open('personality.csv', newline='') as csvfile:\n",
    "    veriler = csv.reader(csvfile, delimiter=' ', quotechar='|')\n",
    "    personCompare=[]\n",
    "    for satir in veriler:\n",
    "        personCompare.append(satir)\n"
   ]
  },
  {
   "cell_type": "code",
   "execution_count": 28,
   "metadata": {},
   "outputs": [
    {
     "name": "stdout",
     "output_type": "stream",
     "text": [
      "Ruhi(ISTP) ile Kübra(ISTP) ilişki yaşarsa bu iksinin uyumu 96'dır\n"
     ]
    }
   ],
   "source": [
    "ruhi.iliski(kübra)"
   ]
  },
  {
   "cell_type": "markdown",
   "metadata": {},
   "source": []
  },
  {
   "attachments": {},
   "cell_type": "markdown",
   "metadata": {},
   "source": [
    "BOT EKLEME"
   ]
  },
  {
   "cell_type": "code",
   "execution_count": 33,
   "metadata": {},
   "outputs": [],
   "source": [
    "bot_personalities=[\"ESTJ\", \"ENTJ\", \"ESFJ\", \"ENFJ\", \"ISTJ\", \"ISFJ\", \"INTJ\", \"INFJ\", \"ESTP\", \"ESFP\", \"ENTP\", \"ENFP\", \"ISTP\", \"ISFP\", \"INTP\" , \"INFP\"]\n",
    "\n",
    "from faker import Faker\n",
    "from random import choice\n",
    "import random\n",
    "\n",
    "fake = Faker()\n",
    "bot_list = []\n",
    "sex,orientation=[\"kadın\",\"erkek\"]\n",
    "\n",
    "\n",
    "for i in range(12):\n",
    "  choiced_personalites = choice(bot_personalities)\n",
    "   \n",
    "  bot_list.append(Person(fake.name(),random.randint(18, 35),choice(sex),choice(orientation),choiced_personalites,True))"
   ]
  },
  {
   "cell_type": "code",
   "execution_count": 43,
   "metadata": {},
   "outputs": [
    {
     "name": "stdout",
     "output_type": "stream",
     "text": [
      "Kübra(ISTP) ile Diana Patton(ESTP) ilişki yaşarsa bu iksinin uyumu 62'dır\n",
      "Kübra(ISTP) ile Jill White(ESTP) ilişki yaşarsa bu iksinin uyumu 62'dır\n",
      "Kübra(ISTP) ile Mark Jones(ENFP) ilişki yaşarsa bu iksinin uyumu 14'dır\n",
      "Kübra(ISTP) ile Adam Garcia(ISTP) ilişki yaşarsa bu iksinin uyumu 96'dır\n",
      "Kübra(ISTP) ile Lisa Wheeler(ISTP) ilişki yaşarsa bu iksinin uyumu 96'dır\n",
      "Kübra(ISTP) ile Johnathan Pena(ENFJ) ilişki yaşarsa bu iksinin uyumu 9'dır\n",
      "Kübra(ISTP) ile Virginia Blevins(ESTJ) ilişki yaşarsa bu iksinin uyumu 55'dır\n",
      "Kübra(ISTP) ile Linda Hoover(ISTJ) ilişki yaşarsa bu iksinin uyumu 78'dır\n",
      "Kübra(ISTP) ile Sarah Ruiz(INTJ) ilişki yaşarsa bu iksinin uyumu 78'dır\n",
      "Kübra(ISTP) ile Lauren Castro(ISTJ) ilişki yaşarsa bu iksinin uyumu 78'dır\n",
      "Kübra(ISTP) ile James Taylor(ESFP) ilişki yaşarsa bu iksinin uyumu 26'dır\n",
      "Kübra(ISTP) ile Lauren Simon(ESFP) ilişki yaşarsa bu iksinin uyumu 26'dır\n"
     ]
    }
   ],
   "source": [
    "for bot in bot_list:\n",
    "    kübra.iliski(bot)\n",
    "\n"
   ]
  }
 ],
 "metadata": {
  "kernelspec": {
   "display_name": "Python 3",
   "language": "python",
   "name": "python3"
  },
  "language_info": {
   "codemirror_mode": {
    "name": "ipython",
    "version": 3
   },
   "file_extension": ".py",
   "mimetype": "text/x-python",
   "name": "python",
   "nbconvert_exporter": "python",
   "pygments_lexer": "ipython3",
   "version": "3.9.0"
  },
  "orig_nbformat": 4,
  "vscode": {
   "interpreter": {
    "hash": "db79cd02c2879342fc8bd9b29edc57f1c50d232bbcdb964524802c33d44ec1fd"
   }
  }
 },
 "nbformat": 4,
 "nbformat_minor": 2
}
